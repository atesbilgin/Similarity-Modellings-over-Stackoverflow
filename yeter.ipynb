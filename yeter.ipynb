{
  "nbformat": 4,
  "nbformat_minor": 0,
  "metadata": {
    "colab": {
      "name": "1millionCounter.ipynb",
      "version": "0.3.2",
      "provenance": [],
      "collapsed_sections": [],
      "include_colab_link": true
    },
    "kernelspec": {
      "name": "python3",
      "display_name": "Python 3"
    },
    "accelerator": "GPU"
  },
  "cells": [
    {
      "cell_type": "markdown",
      "metadata": {
        "id": "view-in-github",
        "colab_type": "text"
      },
      "source": [
        "<a href=\"https://colab.research.google.com/github/ensarkaya/CS425-Group7-TermProject/blob/master/yeter.ipynb\" target=\"_parent\"><img src=\"https://colab.research.google.com/assets/colab-badge.svg\" alt=\"Open In Colab\"/></a>"
      ]
    },
    {
      "metadata": {
        "id": "hkWB4nKdBteZ",
        "colab_type": "code",
        "outputId": "488bed56-b844-402f-e5ee-f5536f6f2177",
        "colab": {
          "base_uri": "https://localhost:8080/",
          "height": 51
        }
      },
      "cell_type": "code",
      "source": [
        "import csv\n",
        "import pandas as pd\n",
        "from collections import defaultdict\n",
        "import nltk\n",
        "from nltk.corpus import stopwords\n",
        "path = '1millionLines.csv'\n",
        "df = pd.read_csv(path)\n",
        "nltk.download('stopwords')\n",
        "dummy =[\"and\",\"or\",\"is\",\"are\",\"what\",\"where\",\"who\",\"whom\",\"when\",\"in\"\n",
        "            ,\"a\",\"an\",\"of\",\"to\",\"for\",\"from\",\"by\",\"can\",\"i\",\"with\",\"its\",\n",
        "             \"there\",\"that\",\"thats\",\"all\",\"does\",\"do\",\"did\",\"the\",\"am\",\"using\",\n",
        "             \"trying\",\"how\",\"be\",\"not\",\"doesn't\",\"don't\",\"didn't\",\"won't\",\"will\",\n",
        "             \"my\",\"be\",\"should\",\"would\",\"as\",\"use\",\"must\",\"have\",\"but\",\"however\",\"at\",\n",
        "             \"another\",\"other\",\"one\",\"two\",\"three\",\"four\",\"five\",\"still\",\"on\",\"why\",\"it\"\n",
        "              ,\"how\",\"a\",\"to\",\"'\",\".\",\",\",\";\",\":\",\"?\",\"!\",\"-\",\"_\",\"1\",\"2\",\"3\",\"4\",\"5\",\"6\",\"7\",\"8\",\"9\",\"0\"]"
      ],
      "execution_count": 1,
      "outputs": [
        {
          "output_type": "stream",
          "text": [
            "[nltk_data] Downloading package stopwords to /root/nltk_data...\n",
            "[nltk_data]   Unzipping corpora/stopwords.zip.\n"
          ],
          "name": "stdout"
        }
      ]
    },
    {
      "metadata": {
        "id": "vzdaYj1zD6ZG",
        "colab_type": "code",
        "colab": {}
      },
      "cell_type": "code",
      "source": [
        "df[\"title\"] = df[\"title\"].apply(lambda x: x.lower())\n",
        "stop = stopwords.words('english')\n",
        "stop.append(dummy)\n",
        "\n",
        "df[\"title\"] = df[\"title\"].str.split(' ').apply(lambda x: ' '.join(k for k in x if k not in dummy))\n",
        "\n",
        "dic = {}\n",
        "def has_key_with_some_values(d, key):\n",
        "    return d.has_key(key) and d[key]\n",
        "def get_values_if_any(d, key):\n",
        "    return d.get(key, [])\n",
        "for i in range(1000000):\n",
        "  str = df.loc[i,'title'].split()\n",
        "  for j in range(len(str)):\n",
        "    while len(str[j]) > 0 and (str[j][0] < 'a' or str[j][0] > 'z') and (str[j][0] < '0' or str[j][0] > '9') and str[j][0] != '#' and str[j][len(str[j])-1] != '+':\n",
        "      str[j] = str[j][1:]\n",
        "    while len(str[j]) > 0 and (str[j][len(str[j])-1] < 'a' or str[j][len(str[j])-1] > 'z') and (str[j][len(str[j])-1] < '0' or str[j][len(str[j])-1] > '9') and str[j][len(str[j])-1] != '#' and str[j][len(str[j])-1] != '+':\n",
        "      str[j] = str[j][:len(str[j])-2]\n",
        "      \n",
        "    if  str[j] != \"\":\n",
        "      if str[j] in dic:\n",
        "        dic[str[j]].append(df.loc[i,'id'])\n",
        "      else:\n",
        "        dic[str[j]]=[df.loc[i,'id']]\n",
        "# print(dic['java'][0])\n",
        "dic2 = {}\n",
        "dic3 = {}\n",
        "dic4 = {}\n",
        "dic5 = {}\n",
        "\n",
        "threshold = 100; \n",
        "count2=0\n",
        "for i in dic:\n",
        "#   print(i)\n",
        "  count=0\n",
        "  key = i\n",
        "  if key not in dic4:\n",
        "    dic4[key] = [count2]\n",
        "    count2+=1\n",
        "  for j in dic[i]:\n",
        "    count+=1\n",
        "  dic2[i]=count\n",
        "#   print(i,\" **** \", count)\n",
        "  if count > threshold:\n",
        "    for j in range(count):\n",
        "      id = dic[i][j] \n",
        "      if id in dic3:\n",
        "        dic3[id].append(i)\n",
        "      else:\n",
        "        dic3[id] = [i]\n",
        "  \n",
        "#   if count<5:\n",
        "#     if i != \"\":\n",
        "#       for k in dic[i]:\n",
        "#         print(i,\": \",count,\", k: \",k)\n",
        "\n",
        "# for i in dic3:\n",
        "#   print(i,\" : \",dic3[i])\n",
        "\n",
        "\n",
        "# for i in dic4:\n",
        "#   print(i,\" : \",dic4[i])  \n",
        "  \n"
      ],
      "execution_count": 0,
      "outputs": []
    },
    {
      "metadata": {
        "id": "RwNnzKBRaXyo",
        "colab_type": "code",
        "colab": {}
      },
      "cell_type": "code",
      "source": [
        "file = open(\"output.txt\", \"w\")\n",
        "for i in dic3:\n",
        "  List = []\n",
        "  for j in dic3[i]:\n",
        "    value = dic4[j][0]\n",
        "#     dic3[i][j] = value\n",
        "    List.append(value)\n",
        "  dic5[i] = List\n",
        "    \n",
        "for i in dic5:   \n",
        "#   print(i,\" : \",dic5[i])\n",
        "#   var = i + \" : \" + dic5[i]\n",
        "  file.write(\"%d\" % i)\n",
        "  file.write(\" : \")\n",
        "  for j in dic5[i]:\n",
        "    file.write(\"%d \" % j)\n",
        "  file.write(\"\\n\")\n",
        "file.close()  "
      ],
      "execution_count": 0,
      "outputs": []
    },
    {
      "metadata": {
        "id": "GHYTATXM3pAR",
        "colab_type": "code",
        "colab": {}
      },
      "cell_type": "code",
      "source": [
        "keys=[len(dic2)]\n",
        "for i in dic2:\n",
        "  if dic2[i] > trashold:\n",
        "    keys.append(i)\n",
        "    print(i)\n",
        "keys.pop(0)"
      ],
      "execution_count": 0,
      "outputs": []
    }
  ]
}