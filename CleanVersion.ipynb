{
  "nbformat": 4,
  "nbformat_minor": 0,
  "metadata": {
    "colab": {
      "name": "CleanVersion.ipynb",
      "version": "0.3.2",
      "provenance": [],
      "collapsed_sections": [],
      "include_colab_link": true
    },
    "kernelspec": {
      "name": "python3",
      "display_name": "Python 3"
    }
  },
  "cells": [
    {
      "cell_type": "markdown",
      "metadata": {
        "id": "view-in-github",
        "colab_type": "text"
      },
      "source": [
        "<a href=\"https://colab.research.google.com/github/ensarkaya/CS425-Group7-TermProject/blob/master/CleanVersion.ipynb\" target=\"_parent\"><img src=\"https://colab.research.google.com/assets/colab-badge.svg\" alt=\"Open In Colab\"/></a>"
      ]
    },
    {
      "cell_type": "code",
      "metadata": {
        "id": "S0lRiyCs5R4x",
        "colab_type": "code",
        "colab": {
          "base_uri": "https://localhost:8080/",
          "height": 34
        },
        "outputId": "f3b94b2b-378e-4f8d-d2c2-93822c69a09a"
      },
      "source": [
        "from google.colab import drive\n",
        "drive.mount('/content/gdrive')"
      ],
      "execution_count": 32,
      "outputs": [
        {
          "output_type": "stream",
          "text": [
            "Drive already mounted at /content/gdrive; to attempt to forcibly remount, call drive.mount(\"/content/gdrive\", force_remount=True).\n"
          ],
          "name": "stdout"
        }
      ]
    },
    {
      "cell_type": "code",
      "metadata": {
        "id": "UMnHS-qU6Y4m",
        "colab_type": "code",
        "colab": {}
      },
      "source": [
        "import csv\n",
        "import pandas as pd\n",
        "from collections import defaultdict\n",
        "import nltk\n",
        "from nltk.corpus import stopwords\n",
        "from bs4 import BeautifulSoup\n",
        "path = '/content/gdrive/My Drive/webScale/10withBody.csv'\n",
        "df = pd.read_csv(path)\n",
        "size =10000"
      ],
      "execution_count": 0,
      "outputs": []
    },
    {
      "cell_type": "code",
      "metadata": {
        "id": "EpdwEf7A7yif",
        "colab_type": "code",
        "colab": {
          "base_uri": "https://localhost:8080/",
          "height": 51
        },
        "outputId": "49cbbe7d-17a3-4ec5-8c95-eec3ff4d455d"
      },
      "source": [
        "nltk.download('stopwords')\n",
        "dummy =[\"and\",\"or\",\"is\",\"are\",\"what\",\"where\",\"who\",\"whom\",\"when\",\"in\"\n",
        "            ,\"a\",\"an\",\"of\",\"to\",\"for\",\"from\",\"by\",\"can\",\"i\",\"with\",\"its\",\n",
        "             \"there\",\"that\",\"thats\",\"all\",\"does\",\"do\",\"did\",\"the\",\"am\",\"using\",\n",
        "             \"trying\",\"how\",\"be\",\"not\",\"doesn't\",\"don't\",\"didn't\",\"won't\",\"will\",\n",
        "             \"my\",\"be\",\"should\",\"would\",\"as\",\"use\",\"must\",\"have\",\"but\",\"however\",\"at\",\n",
        "             \"another\",\"other\",\"one\",\"two\",\"three\",\"four\",\"five\",\"still\",\"on\",\"why\",\"it\"\n",
        "              ,\"how\",\"a\",\"to\",\"'\",\".\",\",\",\";\",\":\",\"?\",\"!\",\"-\",\"_\",\"1\",\"2\",\"3\",\"4\",\"5\",\"6\",\"7\",\"8\",\"9\",\"0\"]\n",
        "stop = stopwords.words('english')\n",
        "stop.append(dummy)"
      ],
      "execution_count": 46,
      "outputs": [
        {
          "output_type": "stream",
          "text": [
            "[nltk_data] Downloading package stopwords to /root/nltk_data...\n",
            "[nltk_data]   Package stopwords is already up-to-date!\n"
          ],
          "name": "stdout"
        }
      ]
    },
    {
      "cell_type": "code",
      "metadata": {
        "id": "pLHHriiOP_Bs",
        "colab_type": "code",
        "colab": {}
      },
      "source": [
        "for i in range(size):\n",
        "  str1 = df.loc[i,'body']\n",
        "  soup = BeautifulSoup(str1)\n",
        "  for a in soup.find_all('p'):\n",
        "    if a.string is None:\n",
        "      df.loc[i,'body']=\"None\"  \n",
        "    else:\n",
        "      df.loc[i,'body']=a.string"
      ],
      "execution_count": 0,
      "outputs": []
    },
    {
      "cell_type": "code",
      "metadata": {
        "id": "opxRWw908h2X",
        "colab_type": "code",
        "colab": {}
      },
      "source": [
        "df[\"title\"] = df[\"title\"].apply(lambda x: x.lower())\n",
        "df[\"title\"] = df[\"title\"].str.split(' ').apply(lambda x: ' '.join(k for k in x if k not in stop))\n",
        "df[\"tags\"] = df[\"tags\"].apply(lambda x: x.lower())\n",
        "df[\"tags\"] = df[\"tags\"].str.split('|').apply(lambda x: ' '.join(k for k in x if k not in dummy))\n",
        "df[\"tags\"] = df[\"tags\"].str.split('-').apply(lambda x: ' '.join(k for k in x if k not in dummy))\n",
        "df[\"body\"] = df[\"body\"].str.split(' ').apply(lambda x: ' '.join(k for k in x if k not in stop))"
      ],
      "execution_count": 0,
      "outputs": []
    },
    {
      "cell_type": "code",
      "metadata": {
        "id": "Pgrj8Psx-LNN",
        "colab_type": "code",
        "colab": {}
      },
      "source": [
        "#keywords -> id's of questions\n",
        "dic = {}\n",
        "#questionId -> (score, answerCount, viewCount, comment_count)\n",
        "values = {}\n",
        "\n",
        "for i in range(size):\n",
        "  values[df.loc[i,'id']] = (df.loc[i,'title'], df.loc[i,'answer_count'], df.loc[i,'score'], df.loc[i,'view_count'], df.loc[i,'comment_count'])\n",
        "  df.loc[i,'title']#unneccessary\n",
        "  string1 = df.loc[i,'title'].split()\n",
        "  string2= df.loc[i,'tags'].split()\n",
        "  string3=df.loc[i,'body'].split()\n",
        "  string=string1+string2+string3\n",
        "  for j in range(len(string)):\n",
        "    while len(string[j]) > 0 and (string[j][0] < 'a' or string[j][0] > 'z') and (string[j][0] < '0' or string[j][0] > '9') and string[j][0] != '#' and string[j][0] != '+':\n",
        "      string[j] = string[j][1:]\n",
        "    while len(string[j]) > 0 and (string[j][len(string[j])-1] < 'a' or string[j][len(string[j])-1] > 'z') and (string[j][len(string[j])-1] < '0' or string[j][len(string[j])-1] > '9') and string[j][len(string[j])-1] != '#' and string[j][len(string[j])-1] != '+':\n",
        "      string[j] = string[j][:len(string[j])-1]\n",
        "      \n",
        "    if  string[j] != \"\":\n",
        "      if string[j] in dic:\n",
        "        dic[string[j]].append(df.loc[i,'id'])\n",
        "      else:\n",
        "        dic[string[j]]=[df.loc[i,'id']]\n"
      ],
      "execution_count": 0,
      "outputs": []
    },
    {
      "cell_type": "code",
      "metadata": {
        "id": "2V_X4zROCCof",
        "colab_type": "code",
        "colab": {}
      },
      "source": [
        "#keywords -> keyword count\n",
        "dic2 = {}\n",
        "#questionId -> keywords if greater than threshold\n",
        "dic3 = {}\n",
        "#array for putting index to keywords\n",
        "dic4 = {}\n",
        "#questionId -> Id's of keywords found in questions\n",
        "dic5 = {}\n",
        "#questionId -> count for keywords with count larger than threshold\n",
        "\n",
        "\n",
        "threshold = 2; \n",
        "count2=0\n",
        "for i in dic:\n",
        "#   print(i)\n",
        "  count=0\n",
        "  key = i\n",
        "  \n",
        "  for j in dic[i]:\n",
        "    count+=1\n",
        "  dic2[i]=count\n",
        "#   print(i,\" **** \", count)\n",
        "  if count > threshold:\n",
        "    for j in range(count):\n",
        "      id = dic[i][j] \n",
        "      if id in dic3:\n",
        "        dic3[id].append(i)\n",
        "      else:\n",
        "        dic3[id] = [i]\n",
        "    if key not in dic4:\n",
        "      dic4[key] = count2\n",
        "      count2+=1"
      ],
      "execution_count": 0,
      "outputs": []
    },
    {
      "cell_type": "code",
      "metadata": {
        "id": "XX3p7rCCJmML",
        "colab_type": "code",
        "colab": {}
      },
      "source": [
        "for i in dic3:\n",
        "  List = []\n",
        "  for j in dic3[i]:\n",
        "    value = dic4[j]\n",
        "#     dic3[i][j] = value\n",
        "    List.append(value)\n",
        "  dic5[i] = List\n",
        "  \n",
        "file = open(\"output.txt\", \"w\")   \n",
        "for i in dic5:   \n",
        "#   print(i,\" : \",dic5[i])\n",
        "#   var = i + \" : \" + dic5[i]\n",
        "  file.write(\"%d\" % i)\n",
        "  file.write(\" : \")\n",
        "  for j in dic5[i]:\n",
        "    file.write(\"%d \" % j)\n",
        "  file.write(\"\\n\")\n",
        "file.close()"
      ],
      "execution_count": 0,
      "outputs": []
    },
    {
      "cell_type": "code",
      "metadata": {
        "id": "2hsd9hYpJsOs",
        "colab_type": "code",
        "colab": {}
      },
      "source": [
        "import random\n",
        "\n",
        "randomNum={}\n",
        "for i in range(128):\n",
        "  a=random.randint(1,50000)\n",
        "  b=random.randint(1,50000)\n",
        "  randomNum[i]=(a,b)"
      ],
      "execution_count": 0,
      "outputs": []
    },
    {
      "cell_type": "code",
      "metadata": {
        "id": "SjzywLKwJxpE",
        "colab_type": "code",
        "colab": {}
      },
      "source": [
        "col=len(dic5)\n",
        "row=128\n",
        "matrix = [[0] * col for i in range(row)]\n",
        "for i in range(128):\n",
        "  count=0\n",
        "  for j in dic5:\n",
        "    minSoFar=9999999\n",
        "    for k in dic5[j]:\n",
        "      hashval=(randomNum[i][0]*j + randomNum[i][1]) % 50311\n",
        "      if hashval<minSoFar:\n",
        "        minSoFar = hashval\n",
        "    matrix[i][count]=minSoFar\n",
        "    count +=1  "
      ],
      "execution_count": 0,
      "outputs": []
    },
    {
      "cell_type": "code",
      "metadata": {
        "id": "2ZNPxVNZKEbU",
        "colab_type": "code",
        "colab": {}
      },
      "source": [
        "file2 = open(\"signature.txt\", \"w\")\n",
        "\n",
        "for i in range(128):\n",
        "    for j in range(size):\n",
        "      file2.write(\"%d\" % matrix[i][j])\n",
        "      file2.write(\" \")\n",
        "    file2.write(\"\\n\")"
      ],
      "execution_count": 0,
      "outputs": []
    },
    {
      "cell_type": "code",
      "metadata": {
        "id": "v4SejmgyKKe6",
        "colab_type": "code",
        "colab": {
          "base_uri": "https://localhost:8080/",
          "height": 51
        },
        "outputId": "c58e43d4-8de6-418e-fa2b-85f52a590a6a"
      },
      "source": [
        "#keywords\n",
        "question = input()\n",
        "s = question.split(\" \")\n",
        "string = [x for x in s if x not in dummy]\n",
        "for j in range(len(string)):\n",
        "  while len(string[j]) > 0 and (string[j][0] < 'a' or string[j][0] > 'z') and (string[j][0] < '0' or string[j][0] > '9') and string[j][0] != '#' and string[j][0] != '+':\n",
        "      string[j] = string[j][1:]\n",
        "  while len(string[j]) > 0 and (string[j][len(string[j])-1] < 'a' or string[j][len(string[j])-1] > 'z') and (string[j][len(string[j])-1] < '0' or string[j][len(string[j])-1] > '9') and string[j][len(string[j])-1] != '#' and string[j][len(string[j])-1] != '+':\n",
        "      string[j] = string[j][:len(string[j])-2]\n",
        "      \n",
        "if(len(string) <= 0):\n",
        "  print('Question not valid.\\n')\n",
        "else:\n",
        "    #calculating the metascore\n",
        "        \n",
        "    #min-hash of the keywords\n",
        "    index = []\n",
        "    for i in string:\n",
        "      if i in dic4:\n",
        "        index.append(dic4[i]);\n",
        "    minHash = []\n",
        "    minValue = 50311\n",
        "    for i in randomNum:\n",
        "      for j in index:\n",
        "        hashValue = (randomNum[i][0]*j + randomNum[i][1]) / 50311\n",
        "        if(hashValue < minValue):\n",
        "          minValue = hashValue\n",
        "      minHash.append(minValue)\n",
        "    \n",
        "    #locality sensitive hashing\n",
        "    candidates = []\n",
        "    r = 8\n",
        "    band = 128 // r;\n",
        "    index = 0;\n",
        "    for i in range(band):\n",
        "      string = ''\n",
        "      for j in range(r):\n",
        "        string = string + str(minHash[i*r + j])\n",
        "        hashvalue = hash(string);\n",
        "      for j in range(size):\n",
        "        string = ''\n",
        "        for k in range(r):\n",
        "          string = string + str(matrix[i*r + k][j])\n",
        "          if(hash(str) == hashvalue):\n",
        "            candidate.append(dicID[j]);    \n",
        "    #output\n",
        "    score = 0;\n",
        "    answerCount = 0\n",
        "    viewCount = 0\n",
        "    comment_count = 0\n",
        "    for id in candidates:\n",
        "      score += values[id][3]\n",
        "      answerCount += values[id][4]\n",
        "      viewCount += values[id][5]\n",
        "      comment_count += values[id][6]\n",
        "    length = len(candidates)\n",
        "    if (length == 0):\n",
        "        print (\"Completely new question!\")\n",
        "    else:\n",
        "      print (\"Predicted score: \", score/length, \"\\n\")\n",
        "      print (\"Predicted number of answers: \", answercount/length, \"\\n\")\n",
        "      print (\"Predicted view count: \", viewCount/length, \"\\n\")\n",
        "      print (\"Predicted number of answers: \", comment_count/length, \"\\n\")"
      ],
      "execution_count": 65,
      "outputs": [
        {
          "output_type": "stream",
          "text": [
            "C# compare string that have Hierarchy CRM Dynamics\n",
            "Completely new question!\n"
          ],
          "name": "stdout"
        }
      ]
    }
  ]
}