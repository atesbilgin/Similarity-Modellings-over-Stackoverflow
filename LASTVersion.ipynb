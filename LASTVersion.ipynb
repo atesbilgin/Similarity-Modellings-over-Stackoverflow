{
  "nbformat": 4,
  "nbformat_minor": 0,
  "metadata": {
    "colab": {
      "name": "Copy of CleanVersion.ipynb",
      "version": "0.3.2",
      "provenance": [],
      "collapsed_sections": [],
      "include_colab_link": true
    },
    "kernelspec": {
      "name": "python3",
      "display_name": "Python 3"
    }
  },
  "cells": [
    {
      "cell_type": "markdown",
      "metadata": {
        "id": "view-in-github",
        "colab_type": "text"
      },
      "source": [
        "<a href=\"https://colab.research.google.com/github/ensarkaya/CS425-Group7-TermProject/blob/master/LASTVersion.ipynb\" target=\"_parent\"><img src=\"https://colab.research.google.com/assets/colab-badge.svg\" alt=\"Open In Colab\"/></a>"
      ]
    },
    {
      "cell_type": "code",
      "metadata": {
        "id": "S0lRiyCs5R4x",
        "colab_type": "code",
        "outputId": "ac56b940-3651-4b9e-9529-919caf2fbb85",
        "colab": {
          "base_uri": "https://localhost:8080/",
          "height": 125
        }
      },
      "source": [
        "from google.colab import drive\n",
        "drive.mount('/content/gdrive')"
      ],
      "execution_count": 1,
      "outputs": [
        {
          "output_type": "stream",
          "text": [
            "Go to this URL in a browser: https://accounts.google.com/o/oauth2/auth?client_id=947318989803-6bn6qk8qdgf4n4g3pfee6491hc0brc4i.apps.googleusercontent.com&redirect_uri=urn%3Aietf%3Awg%3Aoauth%3A2.0%3Aoob&scope=email%20https%3A%2F%2Fwww.googleapis.com%2Fauth%2Fdocs.test%20https%3A%2F%2Fwww.googleapis.com%2Fauth%2Fdrive%20https%3A%2F%2Fwww.googleapis.com%2Fauth%2Fdrive.photos.readonly%20https%3A%2F%2Fwww.googleapis.com%2Fauth%2Fpeopleapi.readonly&response_type=code\n",
            "\n",
            "Enter your authorization code:\n",
            "··········\n",
            "Mounted at /content/gdrive\n"
          ],
          "name": "stdout"
        }
      ]
    },
    {
      "cell_type": "code",
      "metadata": {
        "id": "UMnHS-qU6Y4m",
        "colab_type": "code",
        "colab": {}
      },
      "source": [
        "import csv\n",
        "import pandas as pd\n",
        "from collections import defaultdict\n",
        "import nltk\n",
        "from nltk.corpus import stopwords\n",
        "from bs4 import BeautifulSoup\n",
        "path = '/content/gdrive/My Drive/DataSets/100bin.csv'\n",
        "df = pd.read_csv(path)\n",
        "size =99946"
      ],
      "execution_count": 0,
      "outputs": []
    },
    {
      "cell_type": "code",
      "metadata": {
        "id": "EpdwEf7A7yif",
        "colab_type": "code",
        "outputId": "841b80e4-95d7-4606-edba-b7a924c434ea",
        "colab": {
          "base_uri": "https://localhost:8080/",
          "height": 52
        }
      },
      "source": [
        "nltk.download('stopwords')\n",
        "dummy =[\"and\",\"or\",\"is\",\"are\",\"what\",\"where\",\"who\",\"whom\",\"when\",\"in\",\"cannot\",\"with\"\n",
        "            ,\"a\",\"an\",\"of\",\"to\",\"for\",\"from\",\"by\",\"can\",\"i\",\"with\",\"its\",\"can't\",\n",
        "             \"there\",\"that\",\"thats\",\"all\",\"does\",\"do\",\"did\",\"the\",\"am\",\"using\",\"it\",\n",
        "             \"trying\",\"how\",\"be\",\"not\",\"doesn't\",\"don't\",\"didn't\",\"won't\",\"will\",\n",
        "             \"my\",\"be\",\"should\",\"would\",\"as\",\"use\",\"must\",\"have\",\"but\",\"however\",\"at\",\n",
        "             \"another\",\"other\",\"one\",\"two\",\"three\",\"four\",\"five\",\"still\",\"on\",\"why\",\"it\"\n",
        "              ,\"how\",\"a\",\"to\",\"'\",\".\",\",\",\";\",\":\",\"?\",\"!\",\"-\",\"_\",\"1\",\"2\",\"3\",\"4\",\"5\",\"6\",\"7\",\"8\",\"9\",\"0\"]\n",
        "stop = stopwords.words('english')\n",
        "stop.append(dummy)"
      ],
      "execution_count": 45,
      "outputs": [
        {
          "output_type": "stream",
          "text": [
            "[nltk_data] Downloading package stopwords to /root/nltk_data...\n",
            "[nltk_data]   Package stopwords is already up-to-date!\n"
          ],
          "name": "stdout"
        }
      ]
    },
    {
      "cell_type": "code",
      "metadata": {
        "id": "pLHHriiOP_Bs",
        "colab_type": "code",
        "colab": {}
      },
      "source": [
        "for i in range(size):\n",
        "  str1 = df.loc[i,'body']\n",
        "  soup = BeautifulSoup(str1)\n",
        "  for a in soup.find_all('p'):\n",
        "    if a.string is None:\n",
        "      df.loc[i,'body']=\"None\"  \n",
        "    else:\n",
        "      df.loc[i,'body']=a.string"
      ],
      "execution_count": 0,
      "outputs": []
    },
    {
      "cell_type": "code",
      "metadata": {
        "id": "opxRWw908h2X",
        "colab_type": "code",
        "colab": {}
      },
      "source": [
        "df[\"title\"] = df[\"title\"].apply(lambda x: x.lower())\n",
        "df[\"title\"] = df[\"title\"].str.split(' ').apply(lambda x: ' '.join(k for k in x if k not in stop))\n",
        "df[\"tags\"] = df[\"tags\"].apply(lambda x: x.lower())\n",
        "df[\"tags\"] = df[\"tags\"].str.split('|').apply(lambda x: ' '.join(k for k in x if k not in dummy))\n",
        "df[\"tags\"] = df[\"tags\"].str.split('-').apply(lambda x: ' '.join(k for k in x if k not in dummy))\n",
        "#df[\"body\"] = df[\"body\"].str.split(' ').apply(lambda x: ' '.join(k for k in x if k not in stop))"
      ],
      "execution_count": 0,
      "outputs": []
    },
    {
      "cell_type": "code",
      "metadata": {
        "id": "Pgrj8Psx-LNN",
        "colab_type": "code",
        "colab": {}
      },
      "source": [
        "#keywords -> id's of questions\n",
        "dic = {}\n",
        "#questionId -> (score, answerCount, viewCount, comment_count)\n",
        "values = {}\n",
        "\n",
        "for i in range(size):\n",
        "  values[df.loc[i,'id']] = (df.loc[i,'title'], df.loc[i,'score'], df.loc[i,'answer_count'], df.loc[i,'view_count'], df.loc[i,'comment_count'])\n",
        "  #print(\"idler : \",df.loc[i,'id'])\n",
        "  #print(\"valueler : \",values[df.loc[i,'id']])\n",
        "  df.loc[i,'title']#unneccessary\n",
        "  string1 = df.loc[i,'title'].split()\n",
        "  string2= df.loc[i,'tags'].split()\n",
        "  #string3=df.loc[i,'body'].split()\n",
        "  string=string1+string2#+string3\n",
        "  for j in range(len(string)):\n",
        "    while len(string[j]) > 0 and (string[j][0] < 'a' or string[j][0] > 'z') and (string[j][0] < '0' or string[j][0] > '9') and string[j][0] != '#' and string[j][0] != '+':\n",
        "      string[j] = string[j][1:]\n",
        "    while len(string[j]) > 0 and (string[j][len(string[j])-1] < 'a' or string[j][len(string[j])-1] > 'z') and (string[j][len(string[j])-1] < '0' or string[j][len(string[j])-1] > '9') and string[j][len(string[j])-1] != '#' and string[j][len(string[j])-1] != '+':\n",
        "      string[j] = string[j][:len(string[j])-1]\n",
        "      \n",
        "    if  string[j] != \"\":\n",
        "      if string[j] in dic:\n",
        "        dic[string[j]].append(df.loc[i,'id'])\n",
        "      else:\n",
        "        dic[string[j]]=[df.loc[i,'id']]\n"
      ],
      "execution_count": 0,
      "outputs": []
    },
    {
      "cell_type": "code",
      "metadata": {
        "id": "2V_X4zROCCof",
        "colab_type": "code",
        "colab": {}
      },
      "source": [
        "dic2 = {} #keywords -> keyword count\n",
        "dic3 = {} #questionId -> keywords if greater than threshold\n",
        "dic4 = {} #keyword -> index\n",
        "dic5 = {} #questionId -> keywords as indices\n",
        "\n",
        "threshold = 2; \n",
        "count2=0\n",
        "for i in dic:\n",
        "#   print(i)\n",
        "  count=0\n",
        "  key = i\n",
        "  \n",
        "  for j in dic[i]:\n",
        "    count+=1\n",
        "  dic2[i]=count\n",
        "#   print(i,\" **** \", count)\n",
        "  if count > threshold:\n",
        "    for j in range(count):\n",
        "      id = dic[i][j] \n",
        "      if id in dic3:\n",
        "        dic3[id].append(i)\n",
        "      else:\n",
        "        dic3[id] = [i]\n",
        "    if key not in dic4:\n",
        "      dic4[key] = count2\n",
        "      count2+=1"
      ],
      "execution_count": 0,
      "outputs": []
    },
    {
      "cell_type": "code",
      "metadata": {
        "id": "XX3p7rCCJmML",
        "colab_type": "code",
        "colab": {}
      },
      "source": [
        "for i in dic3:\n",
        "  List = []\n",
        "  for j in dic3[i]:\n",
        "    if j in dic4:\n",
        "      List.append(dic4[j])\n",
        "  dic5[i] = List\n",
        "        \n",
        "# file = open(\"output.txt\", \"w\")   \n",
        "# for i in dic5:   \n",
        "# #   print(i,\" : \",dic5[i])\n",
        "# #   var = i + \" : \" + dic5[i]\n",
        "#   file.write(\"%d\" % i)\n",
        "#   file.write(\" : \")\n",
        "#   for j in dic5[i]:\n",
        "#     file.write(\"%d \" % j)\n",
        "#   file.write(\"\\n\")\n",
        "# file.close()"
      ],
      "execution_count": 0,
      "outputs": []
    },
    {
      "cell_type": "code",
      "metadata": {
        "id": "2hsd9hYpJsOs",
        "colab_type": "code",
        "colab": {}
      },
      "source": [
        "import random\n",
        "\n",
        "randomNum={}\n",
        "for i in range(128):\n",
        "  a=random.randint(1,50000)\n",
        "  b=random.randint(1,50000)\n",
        "  randomNum[i]=(a,b)"
      ],
      "execution_count": 0,
      "outputs": []
    },
    {
      "cell_type": "code",
      "metadata": {
        "id": "SjzywLKwJxpE",
        "colab_type": "code",
        "colab": {}
      },
      "source": [
        "col=len(dic5)\n",
        "row=128\n",
        "matrix = [[0] * col for i in range(row)]\n",
        "reverseId = {}\n",
        "for i in range(128):\n",
        "  count=0\n",
        "  for j in dic5:\n",
        "    minSoFar=9999999\n",
        "    for k in dic5[j]:\n",
        "      hashval=(randomNum[i][0]*k + randomNum[i][1]) % 50311\n",
        "      if hashval<minSoFar:\n",
        "        minSoFar = hashval\n",
        "    matrix[i][count]=minSoFar\n",
        "    #reverse[0] -> excel 0. satırdaki Q IDsi\n",
        "    reverseId[count] = j\n",
        "    count +=1  "
      ],
      "execution_count": 0,
      "outputs": []
    },
    {
      "cell_type": "code",
      "metadata": {
        "id": "2ZNPxVNZKEbU",
        "colab_type": "code",
        "colab": {}
      },
      "source": [
        "file2 = open(\"signature.txt\", \"w\")\n",
        "\n",
        "for i in range(128):\n",
        "    for j in range(size):\n",
        "      file2.write(\"%d\" % matrix[i][j])\n",
        "      file2.write(\" \")\n",
        "    file2.write(\"\\n\")"
      ],
      "execution_count": 0,
      "outputs": []
    },
    {
      "cell_type": "code",
      "metadata": {
        "id": "v4SejmgyKKe6",
        "colab_type": "code",
        "outputId": "3a369d39-a883-41f1-c02b-d4735d7594a5",
        "colab": {
          "base_uri": "https://localhost:8080/",
          "height": 870
        }
      },
      "source": [
        "#keywords\n",
        "question = input()\n",
        "s = question.split(\" \")\n",
        "string = [x for x in s if x not in dummy]\n",
        "\n",
        "print(string)\n",
        "\n",
        "for j in range(len(string)):\n",
        "  string[j] = string[j].lower()\n",
        "  while len(string[j]) > 0 and (string[j][0] < 'a' or string[j][0] > 'z') and (string[j][0] < '0' or string[j][0] > '9') and string[j][0] != '#' and string[j][0] != '+':\n",
        "      string[j] = string[j][1:]\n",
        "  while len(string[j]) > 0 and (string[j][len(string[j])-1] < 'a' or string[j][len(string[j])-1] > 'z') and (string[j][len(string[j])-1] < '0' or string[j][len(string[j])-1] > '9') and string[j][len(string[j])-1] != '#' and string[j][len(string[j])-1] != '+':\n",
        "      string[j] = string[j][:len(string[j])-1]\n",
        "      \n",
        "      \n",
        "print(\"final string : \", string)      \n",
        "\n",
        "if(len(string) <= 0):\n",
        "  print('Question not valid.\\n')\n",
        "else:\n",
        "    #calculating the metascore\n",
        "        \n",
        "    #min-hash of the keywords\n",
        "    indexQ = []\n",
        "    for i in string:\n",
        "      if i in dic4:\n",
        "        indexQ.append(dic4[i]);\n",
        "    print(\"index : \", indexQ)\n",
        "    minHash = []\n",
        "    for i in randomNum:\n",
        "      minValue = 50311\n",
        "      for j in indexQ:\n",
        "        hashValue = (randomNum[i][0]*j + randomNum[i][1]) % 50311\n",
        "        if(hashValue < minValue):\n",
        "          minValue = hashValue\n",
        "      minHash.append(minValue)\n",
        "      \n",
        "    #print(\"minHash list : \",minHash)\n",
        "    \n",
        "    #locality sensitive hashing\n",
        "    orders=[]\n",
        "    candidates = []\n",
        "    r = 4\n",
        "    band = 128 // r;\n",
        "    \n",
        "    \n",
        "    print(\"band : \",band)\n",
        "    \n",
        "    index = 0;\n",
        "    for i in range(band):\n",
        "      string = ''\n",
        "      for j in range(r):\n",
        "        string = string + str(minHash[i*r + j])\n",
        "        hashvalue = hash(string)\n",
        "        #print(\"string check :\", string, \"\\n\")\n",
        "        #print(\"hashvalue : \", hashvalue)\n",
        "      for j in range(col):\n",
        "        string = ''\n",
        "        for k in range(r):\n",
        "          string = string + str(matrix[i*r + k][j])\n",
        "          if(hash(string) == hashvalue):\n",
        "            if reverseId[j] not in candidates:\n",
        "              candidates.append( reverseId[j] )\n",
        "              orders.append(j)\n",
        "              print(\"candidate question found \", reverseId[j])\n",
        "\n",
        "    \n",
        "    #output\n",
        "    score = 0;\n",
        "    answerCount = 0\n",
        "    viewCount = 0\n",
        "    commentCount = 0\n",
        "    for id in candidates:\n",
        "      #print(\"candidate id : \",id)\n",
        "      score += values[id][1]\n",
        "      answerCount += values[id][2]\n",
        "      viewCount += values[id][3]\n",
        "      commentCount += values[id][4]\n",
        "    length = len(candidates)\n",
        "    if (length == 0):\n",
        "        print (\"Completely new question!\")\n",
        "    else:\n",
        "      print (\"Predicted score: \", score/length, \"\\n\")\n",
        "      print (\"Predicted number of answers: \", answerCount/length, \"\\n\")\n",
        "      print (\"Predicted view count: \", viewCount/length, \"\\n\")\n",
        "      print (\"Predicted number of comments: \", commentCount/length, \"\\n\")"
      ],
      "execution_count": 56,
      "outputs": [
        {
          "output_type": "stream",
          "text": [
            "java compile error sytanx method array\n",
            "['java', 'compile', 'error', 'sytanx', 'method', 'array']\n",
            "final string :  ['java', 'compile', 'error', 'sytanx', 'method', 'array']\n",
            "index :  [133, 1080, 95, 26, 380]\n",
            "band :  32\n",
            "candidate question found  50046478\n",
            "candidate question found  49117854\n",
            "candidate question found  49311229\n",
            "candidate question found  48074248\n",
            "candidate question found  49803528\n",
            "candidate question found  50128318\n",
            "candidate question found  52029031\n",
            "candidate question found  48577383\n",
            "candidate question found  51826880\n",
            "candidate question found  51298491\n",
            "candidate question found  51297100\n",
            "candidate question found  52038308\n",
            "candidate question found  51038181\n",
            "candidate question found  49456009\n",
            "candidate question found  51796787\n",
            "candidate question found  49571375\n",
            "candidate question found  50502123\n",
            "candidate question found  50598689\n",
            "candidate question found  51875336\n",
            "candidate question found  52077683\n",
            "candidate question found  50577038\n",
            "candidate question found  49269157\n",
            "candidate question found  50921852\n",
            "candidate question found  48342756\n",
            "candidate question found  50170830\n",
            "candidate question found  50635521\n",
            "candidate question found  50294549\n",
            "candidate question found  48460914\n",
            "candidate question found  51497295\n",
            "candidate question found  52004676\n",
            "candidate question found  50284413\n",
            "candidate question found  50748534\n",
            "candidate question found  51261229\n",
            "candidate question found  49798252\n",
            "candidate question found  50549579\n",
            "Predicted score:  0.5428571428571428 \n",
            "\n",
            "Predicted number of answers:  1.542857142857143 \n",
            "\n",
            "Predicted view count:  172.54285714285714 \n",
            "\n",
            "Predicted number of comments:  2.914285714285714 \n",
            "\n"
          ],
          "name": "stdout"
        }
      ]
    },
    {
      "cell_type": "code",
      "metadata": {
        "id": "SbZPluqmiSJl",
        "colab_type": "code",
        "colab": {
          "base_uri": "https://localhost:8080/",
          "height": 638
        },
        "outputId": "5a099fd9-e4e2-43a0-a7d3-782a4cc388cc"
      },
      "source": [
        "    #Jaccard Similarity\n",
        "    for x in range(len(candidates)):\n",
        "      list1=[]\n",
        "      list1.append(dic5[reverseId[orders[x]]]) \n",
        "      list2= indexQ\n",
        "      intersection=0\n",
        "      for y in range(len(list2)):\n",
        "         if list2[y] in list1[0]:\n",
        "          intersection=intersection+1\n",
        "      union = (len(list1[0]) + len(list2)) - intersection\n",
        "      sim = float(intersection / union)\n",
        "      #print(\"list1: \", list1, \" list2: \",list2)\n",
        "      print(\"Sim= \",sim, \" id: \",reverseId[x], \"intersection:\", intersection, \"union: \", union)"
      ],
      "execution_count": 64,
      "outputs": [
        {
          "output_type": "stream",
          "text": [
            "Sim=  0.25  id:  51046313 intersection: 3 union:  12\n",
            "Sim=  0.16666666666666666  id:  50327756 intersection: 2 union:  12\n",
            "Sim=  0.18181818181818182  id:  50976577 intersection: 2 union:  11\n",
            "Sim=  0.18181818181818182  id:  50312958 intersection: 2 union:  11\n",
            "Sim=  0.25  id:  51986920 intersection: 2 union:  8\n",
            "Sim=  0.2857142857142857  id:  50713895 intersection: 2 union:  7\n",
            "Sim=  0.2857142857142857  id:  50407744 intersection: 2 union:  7\n",
            "Sim=  0.3  id:  50708575 intersection: 3 union:  10\n",
            "Sim=  0.2727272727272727  id:  51974391 intersection: 3 union:  11\n",
            "Sim=  0.2  id:  51236943 intersection: 2 union:  10\n",
            "Sim=  0.16666666666666666  id:  51105137 intersection: 2 union:  12\n",
            "Sim=  0.25  id:  49652151 intersection: 2 union:  8\n",
            "Sim=  0.2857142857142857  id:  48409973 intersection: 2 union:  7\n",
            "Sim=  0.2857142857142857  id:  51893981 intersection: 2 union:  7\n",
            "Sim=  0.2857142857142857  id:  49681082 intersection: 2 union:  7\n",
            "Sim=  0.2222222222222222  id:  50702946 intersection: 2 union:  9\n",
            "Sim=  0.3333333333333333  id:  51451094 intersection: 2 union:  6\n",
            "Sim=  0.2  id:  49196167 intersection: 2 union:  10\n",
            "Sim=  0.2  id:  49678395 intersection: 2 union:  10\n",
            "Sim=  0.25  id:  50738141 intersection: 2 union:  8\n",
            "Sim=  0.2857142857142857  id:  49965543 intersection: 2 union:  7\n",
            "Sim=  0.25  id:  51640996 intersection: 2 union:  8\n",
            "Sim=  0.1111111111111111  id:  48083348 intersection: 2 union:  18\n",
            "Sim=  0.2  id:  48989661 intersection: 2 union:  10\n",
            "Sim=  0.18181818181818182  id:  50411649 intersection: 2 union:  11\n",
            "Sim=  0.25  id:  48087892 intersection: 2 union:  8\n",
            "Sim=  0.2  id:  50630646 intersection: 2 union:  10\n",
            "Sim=  0.2  id:  51805769 intersection: 2 union:  10\n",
            "Sim=  0.2222222222222222  id:  50882264 intersection: 2 union:  9\n",
            "Sim=  0.2  id:  49167482 intersection: 2 union:  10\n",
            "Sim=  0.2  id:  49331822 intersection: 2 union:  10\n",
            "Sim=  0.2222222222222222  id:  50420043 intersection: 2 union:  9\n",
            "Sim=  0.18181818181818182  id:  52027923 intersection: 2 union:  11\n",
            "Sim=  0.2  id:  49782075 intersection: 2 union:  10\n",
            "Sim=  0.18181818181818182  id:  50424318 intersection: 2 union:  11\n"
          ],
          "name": "stdout"
        }
      ]
    },
    {
      "cell_type": "code",
      "metadata": {
        "id": "jfutHiGktrEW",
        "colab_type": "code",
        "colab": {}
      },
      "source": [
        "print(dic4)"
      ],
      "execution_count": 0,
      "outputs": []
    }
  ]
}