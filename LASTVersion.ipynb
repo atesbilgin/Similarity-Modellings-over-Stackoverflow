{
  "nbformat": 4,
  "nbformat_minor": 0,
  "metadata": {
    "colab": {
      "name": "Copy of CleanVersion.ipynb",
      "version": "0.3.2",
      "provenance": [],
      "collapsed_sections": [],
      "include_colab_link": true
    },
    "kernelspec": {
      "name": "python3",
      "display_name": "Python 3"
    }
  },
  "cells": [
    {
      "cell_type": "markdown",
      "metadata": {
        "id": "view-in-github",
        "colab_type": "text"
      },
      "source": [
        "<a href=\"https://colab.research.google.com/github/ensarkaya/CS425-Group7-TermProject/blob/master/LASTVersion.ipynb\" target=\"_parent\"><img src=\"https://colab.research.google.com/assets/colab-badge.svg\" alt=\"Open In Colab\"/></a>"
      ]
    },
    {
      "cell_type": "code",
      "metadata": {
        "id": "S0lRiyCs5R4x",
        "colab_type": "code",
        "outputId": "46b935d9-5e25-47e5-f614-63bec8e52aef",
        "colab": {
          "base_uri": "https://localhost:8080/",
          "height": 122
        }
      },
      "source": [
        "from google.colab import drive\n",
        "drive.mount('/content/gdrive')"
      ],
      "execution_count": 1,
      "outputs": [
        {
          "output_type": "stream",
          "text": [
            "Go to this URL in a browser: https://accounts.google.com/o/oauth2/auth?client_id=947318989803-6bn6qk8qdgf4n4g3pfee6491hc0brc4i.apps.googleusercontent.com&redirect_uri=urn%3Aietf%3Awg%3Aoauth%3A2.0%3Aoob&scope=email%20https%3A%2F%2Fwww.googleapis.com%2Fauth%2Fdocs.test%20https%3A%2F%2Fwww.googleapis.com%2Fauth%2Fdrive%20https%3A%2F%2Fwww.googleapis.com%2Fauth%2Fdrive.photos.readonly%20https%3A%2F%2Fwww.googleapis.com%2Fauth%2Fpeopleapi.readonly&response_type=code\n",
            "\n",
            "Enter your authorization code:\n",
            "··········\n",
            "Mounted at /content/gdrive\n"
          ],
          "name": "stdout"
        }
      ]
    },
    {
      "cell_type": "code",
      "metadata": {
        "id": "UMnHS-qU6Y4m",
        "colab_type": "code",
        "colab": {}
      },
      "source": [
        "import csv\n",
        "import pandas as pd\n",
        "from collections import defaultdict\n",
        "import nltk\n",
        "from nltk.corpus import stopwords\n",
        "from bs4 import BeautifulSoup\n",
        "path = '/content/gdrive/My Drive/webScale/100kbody.csv'\n",
        "df = pd.read_csv(path)\n",
        "size =100000"
      ],
      "execution_count": 0,
      "outputs": []
    },
    {
      "cell_type": "code",
      "metadata": {
        "id": "EpdwEf7A7yif",
        "colab_type": "code",
        "outputId": "f3ea7ad7-543f-4e8d-b4b6-6f421fad70d7",
        "colab": {
          "base_uri": "https://localhost:8080/",
          "height": 51
        }
      },
      "source": [
        "nltk.download('stopwords')\n",
        "dummy =[\"and\",\"or\",\"is\",\"are\",\"what\",\"where\",\"who\",\"whom\",\"when\",\"in\"\n",
        "            ,\"a\",\"an\",\"of\",\"to\",\"for\",\"from\",\"by\",\"can\",\"i\",\"with\",\"its\",\n",
        "             \"there\",\"that\",\"thats\",\"all\",\"does\",\"do\",\"did\",\"the\",\"am\",\"using\",\"i\",\n",
        "             \"trying\",\"how\",\"be\",\"not\",\"doesn't\",\"don't\",\"didn't\",\"won't\",\"will\",\n",
        "             \"my\",\"be\",\"should\",\"would\",\"as\",\"use\",\"must\",\"have\",\"but\",\"however\",\"at\",\n",
        "             \"another\",\"other\",\"one\",\"two\",\"three\",\"four\",\"five\",\"still\",\"on\",\"why\",\"it\"\n",
        "              ,\"how\",\"a\",\"to\",\"'\",\".\",\",\",\";\",\":\",\"?\",\"!\",\"-\",\"_\",\"1\",\"2\",\"3\",\"4\",\"5\",\"6\",\"7\",\"8\",\"9\",\"0\"]\n",
        "stop = stopwords.words('english')\n",
        "stop.append(dummy)"
      ],
      "execution_count": 3,
      "outputs": [
        {
          "output_type": "stream",
          "text": [
            "[nltk_data] Downloading package stopwords to /root/nltk_data...\n",
            "[nltk_data]   Unzipping corpora/stopwords.zip.\n"
          ],
          "name": "stdout"
        }
      ]
    },
    {
      "cell_type": "code",
      "metadata": {
        "id": "pLHHriiOP_Bs",
        "colab_type": "code",
        "colab": {}
      },
      "source": [
        "for i in range(size):\n",
        "  str1 = df.loc[i,'body']\n",
        "  soup = BeautifulSoup(str1)\n",
        "  for a in soup.find_all('p'):\n",
        "    if a.string is None:\n",
        "      df.loc[i,'body']=\"None\"  \n",
        "    else:\n",
        "      df.loc[i,'body']=a.string"
      ],
      "execution_count": 0,
      "outputs": []
    },
    {
      "cell_type": "code",
      "metadata": {
        "id": "opxRWw908h2X",
        "colab_type": "code",
        "colab": {}
      },
      "source": [
        "df[\"title\"] = df[\"title\"].apply(lambda x: x.lower())\n",
        "df[\"title\"] = df[\"title\"].str.split(' ').apply(lambda x: ' '.join(k for k in x if k not in stop))\n",
        "df[\"tags\"] = df[\"tags\"].apply(lambda x: x.lower())\n",
        "df[\"tags\"] = df[\"tags\"].str.split('|').apply(lambda x: ' '.join(k for k in x if k not in dummy))\n",
        "df[\"tags\"] = df[\"tags\"].str.split('-').apply(lambda x: ' '.join(k for k in x if k not in dummy))\n",
        "#df[\"body\"] = df[\"body\"].str.split(' ').apply(lambda x: ' '.join(k for k in x if k not in stop))"
      ],
      "execution_count": 0,
      "outputs": []
    },
    {
      "cell_type": "code",
      "metadata": {
        "id": "Pgrj8Psx-LNN",
        "colab_type": "code",
        "colab": {}
      },
      "source": [
        "#keywords -> id's of questions\n",
        "dic = {}\n",
        "#questionId -> (score, answerCount, viewCount, comment_count)\n",
        "values = {}\n",
        "\n",
        "for i in range(size):\n",
        "  values[df.loc[i,'id']] = (df.loc[i,'title'], df.loc[i,'score'], df.loc[i,'answer_count'], df.loc[i,'view_count'], df.loc[i,'comment_count'])\n",
        "  #print(\"idler : \",df.loc[i,'id'])\n",
        "  #print(\"valueler : \",values[df.loc[i,'id']])\n",
        "  df.loc[i,'title']#unneccessary\n",
        "  string1 = df.loc[i,'title'].split()\n",
        "  string2= df.loc[i,'tags'].split()\n",
        "  #string3=df.loc[i,'body'].split()\n",
        "  string=string1+string2#+string3\n",
        "  for j in range(len(string)):\n",
        "    while len(string[j]) > 0 and (string[j][0] < 'a' or string[j][0] > 'z') and (string[j][0] < '0' or string[j][0] > '9') and string[j][0] != '#' and string[j][0] != '+':\n",
        "      string[j] = string[j][1:]\n",
        "    while len(string[j]) > 0 and (string[j][len(string[j])-1] < 'a' or string[j][len(string[j])-1] > 'z') and (string[j][len(string[j])-1] < '0' or string[j][len(string[j])-1] > '9') and string[j][len(string[j])-1] != '#' and string[j][len(string[j])-1] != '+':\n",
        "      string[j] = string[j][:len(string[j])-1]\n",
        "      \n",
        "    if  string[j] != \"\":\n",
        "      if string[j] in dic:\n",
        "        dic[string[j]].append(df.loc[i,'id'])\n",
        "      else:\n",
        "        dic[string[j]]=[df.loc[i,'id']]\n"
      ],
      "execution_count": 0,
      "outputs": []
    },
    {
      "cell_type": "code",
      "metadata": {
        "id": "2V_X4zROCCof",
        "colab_type": "code",
        "colab": {}
      },
      "source": [
        "dic2 = {} #keywords -> keyword count\n",
        "dic3 = {} #questionId -> keywords if greater than threshold\n",
        "dic4 = {} #keyword -> index\n",
        "dic5 = {} #questionId -> keywords as indices\n",
        "\n",
        "threshold = 2; \n",
        "count2=0\n",
        "for i in dic:\n",
        "#   print(i)\n",
        "  count=0\n",
        "  key = i\n",
        "  \n",
        "  for j in dic[i]:\n",
        "    count+=1\n",
        "  dic2[i]=count\n",
        "#   print(i,\" **** \", count)\n",
        "  if count > threshold:\n",
        "    for j in range(count):\n",
        "      id = dic[i][j] \n",
        "      if id in dic3:\n",
        "        dic3[id].append(i)\n",
        "      else:\n",
        "        dic3[id] = [i]\n",
        "    if key not in dic4:\n",
        "      dic4[key] = count2\n",
        "      count2+=1"
      ],
      "execution_count": 0,
      "outputs": []
    },
    {
      "cell_type": "code",
      "metadata": {
        "id": "XX3p7rCCJmML",
        "colab_type": "code",
        "colab": {}
      },
      "source": [
        "for i in dic3:\n",
        "  List = []\n",
        "  for j in dic3[i]:\n",
        "    value = dic4[j]\n",
        "#     dic3[i][j] = value\n",
        "    List.append(value)\n",
        "  dic5[i] = List\n",
        "  \n",
        "file = open(\"output.txt\", \"w\")   \n",
        "for i in dic5:   \n",
        "#   print(i,\" : \",dic5[i])\n",
        "#   var = i + \" : \" + dic5[i]\n",
        "  file.write(\"%d\" % i)\n",
        "  file.write(\" : \")\n",
        "  for j in dic5[i]:\n",
        "    file.write(\"%d \" % j)\n",
        "  file.write(\"\\n\")\n",
        "file.close()"
      ],
      "execution_count": 0,
      "outputs": []
    },
    {
      "cell_type": "code",
      "metadata": {
        "id": "2hsd9hYpJsOs",
        "colab_type": "code",
        "colab": {}
      },
      "source": [
        "import random\n",
        "\n",
        "randomNum={}\n",
        "for i in range(128):\n",
        "  a=random.randint(1,50000)\n",
        "  b=random.randint(1,50000)\n",
        "  randomNum[i]=(a,b)"
      ],
      "execution_count": 0,
      "outputs": []
    },
    {
      "cell_type": "code",
      "metadata": {
        "id": "SjzywLKwJxpE",
        "colab_type": "code",
        "colab": {}
      },
      "source": [
        "col=len(dic5)\n",
        "row=128\n",
        "matrix = [[0] * col for i in range(row)]\n",
        "reverseId = {}\n",
        "for i in range(128):\n",
        "  count=0\n",
        "  for j in dic5:\n",
        "    minSoFar=9999999\n",
        "    for k in dic5[j]:\n",
        "      hashval=(randomNum[i][0]*k + randomNum[i][1]) % 50311\n",
        "      if hashval<minSoFar:\n",
        "        minSoFar = hashval\n",
        "    matrix[i][count]=minSoFar\n",
        "    #reverse[0] -> excel 0. satırdaki Q IDsi\n",
        "    reverseId[count] = j\n",
        "    count +=1  "
      ],
      "execution_count": 0,
      "outputs": []
    },
    {
      "cell_type": "code",
      "metadata": {
        "id": "2ZNPxVNZKEbU",
        "colab_type": "code",
        "colab": {}
      },
      "source": [
        "file2 = open(\"signature.txt\", \"w\")\n",
        "\n",
        "for i in range(128):\n",
        "    for j in range(size):\n",
        "      file2.write(\"%d\" % matrix[i][j])\n",
        "      file2.write(\" \")\n",
        "    file2.write(\"\\n\")"
      ],
      "execution_count": 0,
      "outputs": []
    },
    {
      "cell_type": "code",
      "metadata": {
        "id": "v4SejmgyKKe6",
        "colab_type": "code",
        "outputId": "e470d209-56b2-4a05-ecbc-814f31640e2b",
        "colab": {
          "base_uri": "https://localhost:8080/",
          "height": 612
        }
      },
      "source": [
        "#keywords\n",
        "question = input()\n",
        "s = question.split(\" \")\n",
        "string = [x for x in s if x not in dummy]\n",
        "\n",
        "print(string)\n",
        "\n",
        "for j in range(len(string)):\n",
        "  string[j] = string[j].lower()\n",
        "  while len(string[j]) > 0 and (string[j][0] < 'a' or string[j][0] > 'z') and (string[j][0] < '0' or string[j][0] > '9') and string[j][0] != '#' and string[j][0] != '+':\n",
        "      string[j] = string[j][1:]\n",
        "  while len(string[j]) > 0 and (string[j][len(string[j])-1] < 'a' or string[j][len(string[j])-1] > 'z') and (string[j][len(string[j])-1] < '0' or string[j][len(string[j])-1] > '9') and string[j][len(string[j])-1] != '#' and string[j][len(string[j])-1] != '+':\n",
        "      string[j] = string[j][:len(string[j])-1]\n",
        "      \n",
        "      \n",
        "print(\"final string : \", string)      \n",
        "\n",
        "if(len(string) <= 0):\n",
        "  print('Question not valid.\\n')\n",
        "else:\n",
        "    #calculating the metascore\n",
        "        \n",
        "    #min-hash of the keywords\n",
        "    index = []\n",
        "    for i in string:\n",
        "      if i in dic4:\n",
        "        index.append(dic4[i]);\n",
        "    print(\"index : \", index)\n",
        "    minHash = []\n",
        "    for i in randomNum:\n",
        "      minValue = 50311\n",
        "      for j in index:\n",
        "        hashValue = (randomNum[i][0]*j + randomNum[i][1]) % 50311\n",
        "        if(hashValue < minValue):\n",
        "          minValue = hashValue\n",
        "      minHash.append(minValue)\n",
        "      \n",
        "    #print(\"minHash list : \",minHash)\n",
        "    \n",
        "    #locality sensitive hashing\n",
        "    orders=[]\n",
        "    candidates = []\n",
        "    r = 4\n",
        "    band = 128 // r;\n",
        "    \n",
        "    \n",
        "    print(\"band : \",band)\n",
        "    \n",
        "    index = 0;\n",
        "    for i in range(band):\n",
        "      string = ''\n",
        "      for j in range(r):\n",
        "        string = string + str(minHash[i*r + j])\n",
        "        hashvalue = hash(string)\n",
        "        #print(\"string check :\", string, \"\\n\")\n",
        "        #print(\"hashvalue : \", hashvalue)\n",
        "      for j in range(size):\n",
        "        string = ''\n",
        "        for k in range(r):\n",
        "          string = string + str(matrix[i*r + k][j])\n",
        "          if(hash(string) == hashvalue):\n",
        "            if reverseId[j] not in candidates:\n",
        "              candidates.append( reverseId[j] );    \n",
        "              print(\"candidate question found \", reverseId[j])\n",
        "    #Jaccard Similarity\n",
        "    for x in orders:\n",
        "      list1=[]\n",
        "      for y in range(128):\n",
        "        list1.append(matrix[y][x]) \n",
        "      list2= orders\n",
        "      intersection = len(list(set(list1).intersection(list2)))\n",
        "      union = (len(list1) + len(list2)) - intersection\n",
        "      sim = float(intersection / union)\n",
        "      if sim > 0.01:\n",
        "        sim=sim*100\n",
        "        print(\"Sim= \",sim, \" id: \",reverseId[x])\n",
        "    \n",
        "    #output\n",
        "    score = 0;\n",
        "    answerCount = 0\n",
        "    viewCount = 0\n",
        "    commentCount = 0\n",
        "    for id in candidates:\n",
        "      #print(\"candidate id : \",id)\n",
        "      score += values[id][1]\n",
        "      answerCount += values[id][2]\n",
        "      viewCount += values[id][3]\n",
        "      commentCount += values[id][4]\n",
        "    length = len(candidates)\n",
        "    if (length == 0):\n",
        "        print (\"Completely new question!\")\n",
        "    else:\n",
        "      print (\"Predicted score: \", score/length, \"\\n\")\n",
        "      print (\"Predicted number of answers: \", answerCount/length, \"\\n\")\n",
        "      print (\"Predicted view count: \", viewCount/length, \"\\n\")\n",
        "      print (\"Predicted number of comments: \", commentCount/length, \"\\n\")"
      ],
      "execution_count": 10,
      "outputs": [
        {
          "output_type": "stream",
          "text": [
            "java code method the sql\n",
            "['java', 'code', 'method', 'sql']\n",
            "final string :  ['java', 'code', 'method', 'sql']\n",
            "index :  [47, 84, 473, 106]\n",
            "band :  32\n",
            "candidate question found  51780507\n",
            "candidate question found  51167125\n",
            "candidate question found  49328545\n",
            "candidate question found  50427888\n",
            "candidate question found  51090488\n",
            "candidate question found  50744792\n",
            "candidate question found  48397976\n",
            "candidate question found  48965708\n",
            "candidate question found  49510384\n",
            "candidate question found  49146595\n",
            "candidate question found  48532815\n",
            "candidate question found  50299484\n",
            "candidate question found  50750501\n",
            "candidate question found  49331731\n",
            "candidate question found  50353206\n",
            "candidate question found  50821489\n",
            "candidate question found  48746266\n",
            "candidate question found  50089502\n",
            "candidate question found  51985799\n",
            "candidate question found  50827982\n",
            "candidate question found  51777532\n",
            "candidate question found  52024400\n",
            "Predicted score:  0.2727272727272727 \n",
            "\n",
            "Predicted number of answers:  1.5909090909090908 \n",
            "\n",
            "Predicted view count:  130.4090909090909 \n",
            "\n",
            "Predicted number of comments:  2.8181818181818183 \n",
            "\n"
          ],
          "name": "stdout"
        }
      ]
    }
  ]
}