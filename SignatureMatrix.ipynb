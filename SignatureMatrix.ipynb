{
  "nbformat": 4,
  "nbformat_minor": 0,
  "metadata": {
    "colab": {
      "name": "Untitled1.ipynb",
      "version": "0.3.2",
      "provenance": [],
      "collapsed_sections": [],
      "include_colab_link": true
    },
    "kernelspec": {
      "name": "python3",
      "display_name": "Python 3"
    }
  },
  "cells": [
    {
      "cell_type": "markdown",
      "metadata": {
        "id": "view-in-github",
        "colab_type": "text"
      },
      "source": [
        "<a href=\"https://colab.research.google.com/github/ensarkaya/CS425-Group7-TermProject/blob/master/SignatureMatrix.ipynb\" target=\"_parent\"><img src=\"https://colab.research.google.com/assets/colab-badge.svg\" alt=\"Open In Colab\"/></a>"
      ]
    },
    {
      "metadata": {
        "id": "dYKunXzmaZf9",
        "colab_type": "code",
        "outputId": "7cbb24af-f01a-4910-fb87-f2aa27ffa799",
        "colab": {
          "base_uri": "https://localhost:8080/",
          "height": 53
        }
      },
      "cell_type": "code",
      "source": [
        "import csv\n",
        "import pandas as pd\n",
        "from collections import defaultdict\n",
        "import nltk\n",
        "from nltk.corpus import stopwords\n",
        "path = '1million.csv'\n",
        "df = pd.read_csv(path)\n",
        "nltk.download('stopwords')\n",
        "dummy =[\"and\",\"or\",\"is\",\"are\",\"what\",\"where\",\"who\",\"whom\",\"when\",\"in\"\n",
        "            ,\"a\",\"an\",\"of\",\"to\",\"for\",\"from\",\"by\",\"can\",\"i\",\"with\",\"its\",\n",
        "             \"there\",\"that\",\"thats\",\"all\",\"does\",\"do\",\"did\",\"the\",\"am\",\"using\",\n",
        "             \"trying\",\"how\",\"be\",\"not\",\"doesn't\",\"don't\",\"didn't\",\"won't\",\"will\",\n",
        "             \"my\",\"be\",\"should\",\"would\",\"as\",\"use\",\"must\",\"have\",\"but\",\"however\",\"at\",\n",
        "             \"another\",\"other\",\"one\",\"two\",\"three\",\"four\",\"five\",\"still\",\"on\",\"why\",\"it\"\n",
        "              ,\"how\",\"a\",\"to\",\"'\",\".\",\",\",\";\",\":\",\"?\",\"!\",\"-\",\"_\",\"1\",\"2\",\"3\",\"4\",\"5\",\"6\",\"7\",\"8\",\"9\",\"0\"]"
      ],
      "execution_count": 24,
      "outputs": [
        {
          "output_type": "stream",
          "text": [
            "[nltk_data] Downloading package stopwords to /root/nltk_data...\n",
            "[nltk_data]   Package stopwords is already up-to-date!\n"
          ],
          "name": "stdout"
        }
      ]
    },
    {
      "metadata": {
        "id": "GyU-uln7ahhy",
        "colab_type": "code",
        "colab": {}
      },
      "cell_type": "code",
      "source": [
        "import random\n",
        "\n",
        "randomNum={}\n",
        "for i in range(128):\n",
        "  a=random.randint(1,50000)\n",
        "  b=random.randint(1,50000)\n",
        "  randomNum[i]=(a,b)"
      ],
      "execution_count": 0,
      "outputs": []
    },
    {
      "metadata": {
        "id": "V0uvzBTcaw-W",
        "colab_type": "code",
        "colab": {}
      },
      "cell_type": "code",
      "source": [
        "df[\"title\"] = df[\"title\"].apply(lambda x: x.lower())\n",
        "stop = stopwords.words('english')\n",
        "stop.append(dummy)\n",
        "\n",
        "df[\"title\"] = df[\"title\"].str.split(' ').apply(lambda x: ' '.join(k for k in x if k not in dummy))\n",
        "\n",
        "#keywords -> id's of questions\n",
        "dic = {}\n",
        "#questionId -> (score, answerCount, viewCount, comment_count)\n",
        "values = {}\n",
        "\n",
        "for i in range(1000000):\n",
        "  values[df.loc[i,'id']] = (df.loc[i,'title'], df.loc[i,'answer_count'], df.loc[i,'score'], df.loc[i,'view_count'], df.loc[i,'comment_count'])\n",
        "  df.loc[i,'title']\n",
        "  string = df.loc[i,'title'].split()\n",
        "  for j in range(len(string)):\n",
        "    while len(string[j]) > 0 and (string[j][0] < 'a' or string[j][0] > 'z') and (string[j][0] < '0' or string[j][0] > '9') and string[j][0] != '#' and string[j][0] != '+':\n",
        "      string[j] = string[j][1:]\n",
        "    while len(string[j]) > 0 and (string[j][len(string[j])-1] < 'a' or string[j][len(string[j])-1] > 'z') and (string[j][len(string[j])-1] < '0' or string[j][len(string[j])-1] > '9') and string[j][len(string[j])-1] != '#' and string[j][len(string[j])-1] != '+':\n",
        "      string[j] = string[j][:len(string[j])-1]\n",
        "      \n",
        "    if  string[j] != \"\":\n",
        "      if string[j] in dic:\n",
        "        dic[string[j]].append(df.loc[i,'id'])\n",
        "      else:\n",
        "        dic[string[j]]=[df.loc[i,'id']]\n",
        "\n",
        "#keywords -> keyword count\n",
        "dic2 = {}\n",
        "#questionId -> keywords if greater than threshold\n",
        "dic3 = {}\n",
        "#array for putting index to keywords\n",
        "dic4 = {}\n",
        "#questionId -> Id's of keywords found in questions\n",
        "dic5 = {}\n",
        "#questionId -> count for keywords with count larger than threshold\n",
        "\n",
        "\n",
        "threshold = 2; \n",
        "count2=0\n",
        "for i in dic:\n",
        "#   print(i)\n",
        "  count=0\n",
        "  key = i\n",
        "  \n",
        "  for j in dic[i]:\n",
        "    count+=1\n",
        "  dic2[i]=count\n",
        "#   print(i,\" **** \", count)\n",
        "  if count > threshold:\n",
        "    for j in range(count):\n",
        "      id = dic[i][j] \n",
        "      if id in dic3:\n",
        "        dic3[id].append(i)\n",
        "      else:\n",
        "        dic3[id] = [i]\n",
        "    if key not in dic4:\n",
        "      dic4[key] = count2\n",
        "      count2+=1"
      ],
      "execution_count": 0,
      "outputs": []
    },
    {
      "metadata": {
        "id": "FDyPOUcYa2Mm",
        "colab_type": "code",
        "colab": {}
      },
      "cell_type": "code",
      "source": [
        "\n",
        "for i in dic3:\n",
        "  List = []\n",
        "  for j in dic3[i]:\n",
        "    value = dic4[j]\n",
        "#     dic3[i][j] = value\n",
        "    List.append(value)\n",
        "  dic5[i] = List\n",
        "  \n",
        "file = open(\"output.txt\", \"w\")   \n",
        "for i in dic5:   \n",
        "#   print(i,\" : \",dic5[i])\n",
        "#   var = i + \" : \" + dic5[i]\n",
        "  file.write(\"%d\" % i)\n",
        "  file.write(\" : \")\n",
        "  for j in dic5[i]:\n",
        "    file.write(\"%d \" % j)\n",
        "  file.write(\"\\n\")\n",
        "file.close()"
      ],
      "execution_count": 0,
      "outputs": []
    },
    {
      "metadata": {
        "id": "lpVEMNFha7dg",
        "colab_type": "code",
        "colab": {}
      },
      "cell_type": "code",
      "source": [
        "cnt=0\n",
        "print(\"dic:\", \"end= \")\n",
        "for i in dic:\n",
        "  if cnt<5:\n",
        "    print(i,\" : \", dic[i])\n",
        "    cnt+=1\n",
        "print(\"lenght dic: \",len(dic))\n",
        "cnt=0\n",
        "print(\"dic2:\", \"end= \")\n",
        "for i in dic2:\n",
        "  if cnt<5:\n",
        "    print(i,\" : \", dic2[i])\n",
        "    cnt+=1\n",
        "print(\"lenght dic2: \",len(dic2))\n",
        "cnt=0\n",
        "print(\"dic3:\", \"end= \")\n",
        "for i in dic3:\n",
        "  if cnt<5:\n",
        "    print(i,\" : \", dic3[i])\n",
        "    cnt+=1\n",
        "print(\"lenght dic3: \",len(dic3))\n",
        "cnt=0\n",
        "print(\"dic4:\", \"end= \")\n",
        "for i in dic4:\n",
        "  if cnt<5:\n",
        "    print(i,\" : \", dic4[i])\n",
        "    cnt+=1\n",
        "print(\"lenght dic4: \",len(dic4))\n",
        "cnt=0\n",
        "print(\"dic5:\", \"end= \")\n",
        "for i in dic5:\n",
        "  if cnt<5:\n",
        "    print(i,\" : \", dic5[i])\n",
        "    cnt+=1\n",
        "print(\"lenght dic5: \",len(dic5))"
      ],
      "execution_count": 0,
      "outputs": []
    },
    {
      "metadata": {
        "id": "3v6rkhwVbEel",
        "colab_type": "code",
        "colab": {
          "base_uri": "https://localhost:8080/",
          "height": 244
        },
        "outputId": "2d9ab03f-5ac9-4747-cf54-b559b3494ba6"
      },
      "cell_type": "code",
      "source": [
        "col=len(dic5)\n",
        "row=128\n",
        "matrix = [[0] * col for i in range(row)]\n",
        "for i in range(128):\n",
        "  count=0\n",
        "  for j in dic5:\n",
        "    minSoFar=9999999\n",
        "    for k in dic5[j]:\n",
        "      hashval=(randomNum[i][0]*j + randomNum[i][1]) % 50311\n",
        "      if hashval<minSoFar:\n",
        "        minSoFar = hashval\n",
        "    matrix[i][count]=minSoFar\n",
        "    count +=1  "
      ],
      "execution_count": 41,
      "outputs": [
        {
          "output_type": "stream",
          "text": [
            "999385\n"
          ],
          "name": "stdout"
        },
        {
          "output_type": "error",
          "ename": "IndexError",
          "evalue": "ignored",
          "traceback": [
            "\u001b[0;31m---------------------------------------------------------------------------\u001b[0m",
            "\u001b[0;31mIndexError\u001b[0m                                Traceback (most recent call last)",
            "\u001b[0;32m<ipython-input-41-0717a4e0bd65>\u001b[0m in \u001b[0;36m<module>\u001b[0;34m()\u001b[0m\n\u001b[1;32m     11\u001b[0m       \u001b[0;32mif\u001b[0m \u001b[0mhashval\u001b[0m\u001b[0;34m<\u001b[0m\u001b[0mminSoFar\u001b[0m\u001b[0;34m:\u001b[0m\u001b[0;34m\u001b[0m\u001b[0;34m\u001b[0m\u001b[0m\n\u001b[1;32m     12\u001b[0m         \u001b[0mminSoFar\u001b[0m \u001b[0;34m=\u001b[0m \u001b[0mhashval\u001b[0m\u001b[0;34m\u001b[0m\u001b[0;34m\u001b[0m\u001b[0m\n\u001b[0;32m---> 13\u001b[0;31m     \u001b[0mmatrix\u001b[0m\u001b[0;34m[\u001b[0m\u001b[0mi\u001b[0m\u001b[0;34m]\u001b[0m\u001b[0;34m[\u001b[0m\u001b[0mcount\u001b[0m\u001b[0;34m]\u001b[0m\u001b[0;34m=\u001b[0m\u001b[0mminSoFar\u001b[0m\u001b[0;34m\u001b[0m\u001b[0;34m\u001b[0m\u001b[0m\n\u001b[0m\u001b[1;32m     14\u001b[0m     \u001b[0mcount\u001b[0m \u001b[0;34m+=\u001b[0m\u001b[0;36m1\u001b[0m\u001b[0;34m\u001b[0m\u001b[0;34m\u001b[0m\u001b[0m\n",
            "\u001b[0;31mIndexError\u001b[0m: list assignment index out of range"
          ]
        }
      ]
    },
    {
      "metadata": {
        "id": "43hB6mLZsoEZ",
        "colab_type": "code",
        "colab": {}
      },
      "cell_type": "code",
      "source": [
        "for i in range(12):\n",
        "  for j in range(100):\n",
        "    print(matrix[i][j])"
      ],
      "execution_count": 0,
      "outputs": []
    },
    {
      "metadata": {
        "id": "OzRNKdE2x6Jw",
        "colab_type": "code",
        "colab": {}
      },
      "cell_type": "code",
      "source": [
        "file2 = open(\"signature.txt\", \"w\")\n",
        "\n",
        "for i in range(128):\n",
        "    for j in range(999295):\n",
        "      file2.write(\"%d\" % matrix[i][j])\n",
        "      file2.write(\" \")\n",
        "    file2.write(\"\\n\")\n",
        "  "
      ],
      "execution_count": 0,
      "outputs": []
    },
    {
      "metadata": {
        "id": "qIpwmQWjgQ8B",
        "colab_type": "code",
        "outputId": "ed2d17e7-396a-4b50-ef18-1d2f39a3b1ad",
        "colab": {
          "base_uri": "https://localhost:8080/",
          "height": 336
        }
      },
      "cell_type": "code",
      "source": [
        "#keywords\n",
        "question = input()\n",
        "s = question.split(\" \")\n",
        "string = [x for x in s if x not in dummy]\n",
        "\n",
        "for j in range(len(string)):\n",
        "  while len(string[j]) > 0 and (string[j][0] < 'a' or string[j][0] > 'z') and (string[j][0] < '0' or string[j][0] > '9') and string[j][0] != '#' and string[j][0] != '+':\n",
        "      string[j] = string[j][1:]\n",
        "  while len(string[j]) > 0 and (string[j][len(string[j])-1] < 'a' or string[j][len(string[j])-1] > 'z') and (string[j][len(string[j])-1] < '0' or string[j][len(string[j])-1] > '9') and string[j][len(string[j])-1] != '#' and string[j][len(string[j])-1] != '+':\n",
        "      string[j] = string[j][:len(string[j])-1]\n",
        "print(string)  \n",
        "if(len(string) <= 0):\n",
        "  print('Question not valid.\\n')\n",
        "else:\n",
        "    #calculating the metascore\n",
        "        \n",
        "    #min-hash of the keywords\n",
        "    index = []\n",
        "    for i in string:\n",
        "      if i in dic4:\n",
        "        index.append(dic4[i]);\n",
        "    print(index)\n",
        "    minHash = []\n",
        "    for i in randomNum:\n",
        "      minValue = 50311\n",
        "      for j in index:\n",
        "        hashValue = (randomNum[i][0]*j + randomNum[i][1]) % 50311\n",
        "        if(hashValue < minValue):\n",
        "          minValue = hashValue\n",
        "      minHash.append(minValue)\n",
        "      \n",
        "    print(minHash)\n",
        "    \n",
        "    #locality sensitive hashing\n",
        "    index = 0\n",
        "    for j in dic3:\n",
        "      dicID[index] = j\n",
        "      index = index + 1\n",
        "      \n",
        "    candidates = []\n",
        "    r = 2\n",
        "    band = 128 // r;\n",
        "    index = 0;\n",
        "    for i in range(band):\n",
        "      string = ''\n",
        "      for j in range(r):\n",
        "        string = string + str(minHash[i*r + j])\n",
        "        hashvalue = hash(string);\n",
        "      for j in range(999295):\n",
        "        string = ''\n",
        "        for k in range(r):\n",
        "          string = string + str(matrix[i*r + k][j])\n",
        "          if(hash(string) == hashvalue):\n",
        "            candidates.append(dicID[j]);\n",
        "    print(candidates)\n",
        "    \n",
        "    #output\n",
        "    score = 0;\n",
        "    answerCount = 0\n",
        "    viewCount = 0\n",
        "    comment_count = 0\n",
        "    for id in candidates:\n",
        "      score += values[id][3]\n",
        "      answerCount += values[id][4]\n",
        "      viewCount += values[id][5]\n",
        "      comment_count += values[id][6]\n",
        "    length = len(candidates)\n",
        "    if (length == 0):\n",
        "        print (\"Completely new question!\")\n",
        "    else:\n",
        "      print (\"Predicted score: \", score/length, \"\\n\")\n",
        "      print (\"Predicted number of answers: \", answercount/length, \"\\n\")\n",
        "      print (\"Predicted view count: \", viewCount/length, \"\\n\")\n",
        "      print (\"Predicted number of answers: \", comment_count/length, \"\\n\")\n",
        "      "
      ],
      "execution_count": 40,
      "outputs": [
        {
          "output_type": "stream",
          "text": [
            "java string?\n",
            "['java', 'string']\n",
            "[102, 101]\n",
            "[910, 11919, 3630, 16132, 17622, 32571, 41536, 1752, 15042, 20394, 17656, 4171, 15917, 37, 32208, 20362, 13268, 6937, 17183, 20409, 5135, 26032, 19364, 886, 40639, 19108, 1181, 26453, 19238, 17510, 30671, 442, 15804, 19976, 4575, 2690, 23544, 1289, 7844, 14174, 36920, 42762, 10177, 2179, 5682, 22859, 30237, 6884, 31306, 12738, 23977, 3820, 42387, 7373, 16288, 7729, 17594, 3442, 33499, 35426, 9610, 31895, 13234, 33143, 599, 6538, 8562, 6770, 15536, 12412, 21901, 45295, 5780, 5057, 1057, 7201, 5591, 17715, 35095, 7363, 23834, 4347, 4710, 21854, 26983, 12456, 3167, 11852, 13793, 978, 17275, 21176, 41458, 18445, 1133, 20995, 27152, 26524, 24362, 15011, 13586, 10280, 9549, 5577, 20108, 39290, 33819, 11268, 27639, 42774, 43716, 8904, 8600, 3023, 5191, 3422, 14310, 19246, 37605, 5703, 23126, 16787, 13130, 33805, 19064, 34403, 18013, 14083]\n"
          ],
          "name": "stdout"
        },
        {
          "output_type": "error",
          "ename": "KeyboardInterrupt",
          "evalue": "ignored",
          "traceback": [
            "\u001b[0;31m---------------------------------------------------------------------------\u001b[0m",
            "\u001b[0;31mKeyboardInterrupt\u001b[0m                         Traceback (most recent call last)",
            "\u001b[0;32m<ipython-input-40-25a66b51d513>\u001b[0m in \u001b[0;36m<module>\u001b[0;34m()\u001b[0m\n\u001b[1;32m     48\u001b[0m       \u001b[0;32mfor\u001b[0m \u001b[0mj\u001b[0m \u001b[0;32min\u001b[0m \u001b[0mrange\u001b[0m\u001b[0;34m(\u001b[0m\u001b[0;36m999295\u001b[0m\u001b[0;34m)\u001b[0m\u001b[0;34m:\u001b[0m\u001b[0;34m\u001b[0m\u001b[0;34m\u001b[0m\u001b[0m\n\u001b[1;32m     49\u001b[0m         \u001b[0mstring\u001b[0m \u001b[0;34m=\u001b[0m \u001b[0;34m''\u001b[0m\u001b[0;34m\u001b[0m\u001b[0;34m\u001b[0m\u001b[0m\n\u001b[0;32m---> 50\u001b[0;31m         \u001b[0;32mfor\u001b[0m \u001b[0mk\u001b[0m \u001b[0;32min\u001b[0m \u001b[0mrange\u001b[0m\u001b[0;34m(\u001b[0m\u001b[0mr\u001b[0m\u001b[0;34m)\u001b[0m\u001b[0;34m:\u001b[0m\u001b[0;34m\u001b[0m\u001b[0;34m\u001b[0m\u001b[0m\n\u001b[0m\u001b[1;32m     51\u001b[0m           \u001b[0mstring\u001b[0m \u001b[0;34m=\u001b[0m \u001b[0mstring\u001b[0m \u001b[0;34m+\u001b[0m \u001b[0mstr\u001b[0m\u001b[0;34m(\u001b[0m\u001b[0mmatrix\u001b[0m\u001b[0;34m[\u001b[0m\u001b[0mi\u001b[0m\u001b[0;34m*\u001b[0m\u001b[0mr\u001b[0m \u001b[0;34m+\u001b[0m \u001b[0mk\u001b[0m\u001b[0;34m]\u001b[0m\u001b[0;34m[\u001b[0m\u001b[0mj\u001b[0m\u001b[0;34m]\u001b[0m\u001b[0;34m)\u001b[0m\u001b[0;34m\u001b[0m\u001b[0;34m\u001b[0m\u001b[0m\n\u001b[1;32m     52\u001b[0m           \u001b[0;32mif\u001b[0m\u001b[0;34m(\u001b[0m\u001b[0mhash\u001b[0m\u001b[0;34m(\u001b[0m\u001b[0mstring\u001b[0m\u001b[0;34m)\u001b[0m \u001b[0;34m==\u001b[0m \u001b[0mhashvalue\u001b[0m\u001b[0;34m)\u001b[0m\u001b[0;34m:\u001b[0m\u001b[0;34m\u001b[0m\u001b[0;34m\u001b[0m\u001b[0m\n",
            "\u001b[0;31mKeyboardInterrupt\u001b[0m: "
          ]
        }
      ]
    },
    {
      "metadata": {
        "id": "DcC3HgXt6CtF",
        "colab_type": "code",
        "colab": {
          "base_uri": "https://localhost:8080/",
          "height": 197
        },
        "outputId": "f2fedad7-5925-4939-e88e-1015f644b9bf"
      },
      "cell_type": "code",
      "source": [
        "dicID = {}\n",
        "index = 0\n",
        "print (dic3)\n",
        "#for j in dic5:\n",
        "  #dicID[index] = j\n",
        "  #index = index + 1\n",
        "#print (dicID)"
      ],
      "execution_count": 39,
      "outputs": [
        {
          "output_type": "stream",
          "text": [
            "IOPub data rate exceeded.\n",
            "The notebook server will temporarily stop sending output\n",
            "to the client in order to avoid crashing it.\n",
            "To change this limit, set the config variable\n",
            "`--NotebookApp.iopub_data_rate_limit`.\n",
            "\n",
            "Current values:\n",
            "NotebookApp.iopub_data_rate_limit=1000000.0 (bytes/sec)\n",
            "NotebookApp.rate_limit_window=3.0 (secs)\n",
            "\n"
          ],
          "name": "stderr"
        }
      ]
    }
  ]
}